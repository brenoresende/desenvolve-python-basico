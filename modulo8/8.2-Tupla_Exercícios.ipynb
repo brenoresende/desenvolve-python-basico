{
 "cells": [
  {
   "cell_type": "markdown",
   "id": "0d5035b5",
   "metadata": {},
   "source": [
    "# Tupla\n",
    "\n",
    "## Aula 8.2"
   ]
  },
  {
   "cell_type": "markdown",
   "id": "0bdece85",
   "metadata": {},
   "source": [
    "### Q1. \n",
    "\n",
    "Escreva uma função ```calcula_area_perimetro``` que recebe **apenas um parâmetro** ```dimensoes``` e calcula a área e o perímetro a partir das dimensões dadas. \n",
    "- ```dimensoes``` é uma tupla (largura, comprimento) com as dimensões de um terreno retangular\n",
    "- Sua função deve calcular e retornar as seguintes operações\n",
    "   - $area = largura \\times comprimento$\n",
    "   - $perimetro = 2\\times(largura + comprimento)$\n"
   ]
  },
  {
   "cell_type": "code",
   "execution_count": null,
   "id": "0a258eba",
   "metadata": {},
   "outputs": [],
   "source": [
    "# Implemente aqui a função calcula_area_perimetro\n",
    "def calcula_area_perimetro(dimensoes):\n",
    "    largura, comprimento = dimensoes\n",
    "    \n",
    "    # Calculando a área\n",
    "    area = largura * comprimento\n",
    "    \n",
    "    # Calculando o perímetro\n",
    "    perimetro = 2 * (largura + comprimento)\n",
    "    \n",
    "    # Criando o dicionário com os resultados\n",
    "    resultados = {\n",
    "        'area': area,\n",
    "        'perimetro': perimetro\n",
    "    }\n",
    "    \n",
    "    return resultados\n",
    "\n",
    "# Exemplo de uso:\n",
    "dimensoes_terreno = (10, 20)\n",
    "resultado = calcula_area_perimetro(dimensoes_terreno)\n",
    "print(f\"Área do terreno: {resultado['area']} metros quadrados\")\n",
    "print(f\"Perímetro do terreno: {resultado['perimetro']} metros\")\n"
   ]
  },
  {
   "cell_type": "code",
   "execution_count": null,
   "id": "e1866c04",
   "metadata": {},
   "outputs": [],
   "source": [
    "# Complete o exemplo de uso abaixo\n",
    "largura = 5\n",
    "comprimento = 7\n",
    "\n",
    "retorno = ## complete aqui a chamada da função\n",
    "print(retorno, type(retorno))"
   ]
  },
  {
   "cell_type": "markdown",
   "id": "cbdcb986",
   "metadata": {},
   "source": [
    "### Q2.\n",
    "\n",
    "Dada uma string, imprima todas as vogais que aparecem na string, bem como todos os índices onde elas ocorrem. Para isso, use a função ```enumerate```.\n"
   ]
  },
  {
   "cell_type": "code",
   "execution_count": null,
   "id": "1f6b1f2d",
   "metadata": {},
   "outputs": [],
   "source": [
    "frase = \"O rato roeu a roupa da Alice\"\n",
    "\n",
    "# Implemente aqui sua solução\n",
    "def imprime_vogais_e_indices(frase):\n",
    "    vogais = \"aeiouAEIOU\"  # Todas as vogais maiúsculas e minúsculas\n",
    "    \n",
    "    # Percorre a frase com enumerate para obter tanto o índice quanto o caractere\n",
    "    for indice, caractere in enumerate(frase):\n",
    "        if caractere in vogais:\n",
    "            print(f\"Vogal: {caractere}, Índice: {indice}\")\n",
    "\n",
    "# Exemplo de uso:\n",
    "frase = \"O rato roeu a roupa da Alice\"\n",
    "imprime_vogais_e_indices(frase)\n"
   ]
  },
  {
   "cell_type": "markdown",
   "id": "8d46663f",
   "metadata": {},
   "source": [
    "### Q3.\n",
    "\n",
    "Escreva uma função em Python chamada ```ordenar_tuplas``` que recebe uma lista de tuplas, cada uma contendo o nome de um aluno e sua respectiva média, e retorna uma nova lista ordenada em ordem decrescente de médias."
   ]
  },
  {
   "cell_type": "code",
   "execution_count": null,
   "id": "469f2e6e",
   "metadata": {},
   "outputs": [],
   "source": [
    "# Implemente aqui a função ordenar_tuplas\n",
    "def ordenar_tuplas(alunos_notas):\n",
    "    # Ordena a lista de tuplas pelo segundo elemento (média) em ordem decrescente\n",
    "    return sorted(alunos_notas, key=lambda x: x[1], reverse=True)"
   ]
  },
  {
   "cell_type": "code",
   "execution_count": null,
   "id": "1972c62b",
   "metadata": {},
   "outputs": [],
   "source": [
    "# Exemplo de uso:\n",
    "alunos_notas = [('Alice', 8.5), ('Bob', 7.2), ('Charlie', 9.0), ('David', 8.8)]\n",
    "resultado = ordenar_tuplas(alunos_notas)\n",
    "print(resultado)\n",
    "# Saída esperada: [('Charlie', 9.0), ('David', 8.8), ('Alice', 8.5), ('Bob', 7.2)]"
   ]
  },
  {
   "cell_type": "markdown",
   "id": "e0268fae",
   "metadata": {},
   "source": [
    "### Q4.\n",
    "\n",
    "Escreva uma função em Python chamada ```comprimir_tuplas``` que recebe uma lista de tuplas, cada uma contendo uma palavra e um número, e retorna uma nova lista de tuplas onde palavras idênticas são agrupadas e seus números são somados.\n",
    "\n"
   ]
  },
  {
   "cell_type": "code",
   "execution_count": null,
   "id": "30a221f3",
   "metadata": {},
   "outputs": [],
   "source": [
    "# Implemente aqui a função comprimir_tuplas\n",
    "def comprimir_tuplas(tuplas_originais):\n",
    "    # Dicionário para armazenar a contagem e soma dos números associados a cada palavra\n",
    "    palavra_numero = {}\n",
    "    \n",
    "    # Percorre cada tupla na lista original\n",
    "    for palavra, numero in tuplas_originais:\n",
    "        if palavra in palavra_numero:\n",
    "            # Se a palavra já existe no dicionário, soma o número ao valor existente\n",
    "            palavra_numero[palavra] += numero\n",
    "        else:\n",
    "            # Se a palavra não existe no dicionário, inicializa com o número\n",
    "            palavra_numero[palavra] = numero\n",
    "    \n",
    "    # Converte o dicionário de volta para uma lista de tuplas e retorna\n",
    "    return list(palavra_numero.items())"
   ]
  },
  {
   "cell_type": "code",
   "execution_count": null,
   "id": "80972bac",
   "metadata": {},
   "outputs": [],
   "source": [
    "# Exemplo de uso:\n",
    "tuplas_originais = [('maçã', 3), ('banana', 2), ('maçã', 5), ('laranja', 1), ('banana', 3)]\n",
    "resultado = comprimir_tuplas(tuplas_originais)\n",
    "print(resultado)\n",
    "# Saída esperada: [('maçã', 8), ('banana', 5), ('laranja', 1)]"
   ]
  },
  {
   "cell_type": "markdown",
   "id": "649a5082",
   "metadata": {},
   "source": [
    "### Q5. \n",
    "\n",
    "- Escreva um script que peça o nome e a idade de todos na fila de uma balada. Crie uma lista de tuplas com os pares ```(nome, idade)``` de cada um. \n",
    "- Em seguida crie e imprima duas tuplas apenas com os nomes, uma com os menores de idade que não poderão entrar, e uma com os maiores de idade (```idade >= 18```). \n",
    "\n"
   ]
  },
  {
   "cell_type": "code",
   "execution_count": null,
   "id": "47cb0573",
   "metadata": {},
   "outputs": [],
   "source": [
    "## Implemente aqui sua solução\n",
    "def main():\n",
    "    # Lista de tuplas para armazenar pares (nome, idade)\n",
    "    fila_balada = []\n",
    "    \n",
    "    # Coleta informações da fila de balada\n",
    "    while True:\n",
    "        nome = input(\"Digite o nome da pessoa (ou 'fim' para encerrar): \").strip()\n",
    "        if nome.lower() == 'fim':\n",
    "            break\n",
    "        try:\n",
    "            idade = int(input(\"Digite a idade de {}: \".format(nome)))\n",
    "        except ValueError:\n",
    "            print(\"Idade inválida. Digite um número inteiro.\")\n",
    "            continue\n",
    "        \n",
    "        # Adiciona à lista de tuplas (nome, idade)\n",
    "        fila_balada.append((nome, idade))\n",
    "    \n",
    "    print(\"\\nFila de balada:\")\n",
    "    for pessoa in fila_balada:\n",
    "        print(f\"Nome: {pessoa[0]}, Idade: {pessoa[1]}\")\n",
    "    \n",
    "    # Separação em tuplas de nomes de menores e maiores de idade\n",
    "    menores_idade = tuple(nome for nome, idade in fila_balada if idade < 18)\n",
    "    maiores_idade = tuple(nome for nome, idade in fila_balada if idade >= 18)\n",
    "    \n",
    "    # Imprime as tuplas\n",
    "    print(\"\\nNomes dos menores de idade:\")\n",
    "    print(menores_idade)\n",
    "    \n",
    "    print(\"\\nNomes dos maiores de idade:\")\n",
    "    print(maiores_idade)\n",
    "\n",
    "if __name__ == \"__main__\":\n",
    "    main()\n"
   ]
  }
 ],
 "metadata": {
  "kernelspec": {
   "display_name": "Python 3 (ipykernel)",
   "language": "python",
   "name": "python3"
  },
  "language_info": {
   "codemirror_mode": {
    "name": "ipython",
    "version": 3
   },
   "file_extension": ".py",
   "mimetype": "text/x-python",
   "name": "python",
   "nbconvert_exporter": "python",
   "pygments_lexer": "ipython3",
   "version": "3.12.2"
  }
 },
 "nbformat": 4,
 "nbformat_minor": 5
}
