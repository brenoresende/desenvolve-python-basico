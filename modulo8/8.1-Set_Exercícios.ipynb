{
 "cells": [
  {
   "cell_type": "markdown",
   "id": "0d5035b5",
   "metadata": {},
   "source": [
    "# Set\n",
    "\n",
    "## Aula 8.1"
   ]
  },
  {
   "cell_type": "markdown",
   "id": "0bdece85",
   "metadata": {},
   "source": [
    "### Q1. \n",
    "\n",
    "Dada uma string qualquer, use seu conhecimento de sets para apresentar os caracteres únicos que aparecem na string, ordenados alfabeticamente e sem duplicatas. Preste atenção em duplicatas de maiúsculas e minúsculas.\n"
   ]
  },
  {
   "cell_type": "code",
   "execution_count": null,
   "id": "0a258eba",
   "metadata": {},
   "outputs": [],
   "source": [
    "frase = \"O rato roeu a roupa do Robson\"\n",
    "\n",
    "## Implemente aqui sua solução\n",
    "def caracteres_unicos(frase):\n",
    "    # Converter a string para minúsculas\n",
    "    frase = frase.lower()\n",
    "    \n",
    "    # Conjunto para armazenar caracteres únicos\n",
    "    caracteres_unicos = set()\n",
    "    \n",
    "    # Iterar pelos caracteres da frase\n",
    "    for char in frase:\n",
    "        if char.isalpha():  # Verificar se é uma letra\n",
    "            caracteres_unicos.add(char)  # Adicionar ao conjunto\n",
    "    \n",
    "    # Ordenar os caracteres únicos\n",
    "    caracteres_unicos_ordenados = sorted(caracteres_unicos)\n",
    "    \n",
    "    # Imprimir os caracteres únicos ordenados\n",
    "    print(\"Caracteres únicos na frase:\")\n",
    "    for char in caracteres_unicos_ordenados:\n",
    "        print(char, end=\" \")\n",
    "    print()\n",
    "caracteres_unicos(frase)\n"
   ]
  },
  {
   "cell_type": "markdown",
   "id": "0856bd56",
   "metadata": {},
   "source": [
    "### Q2\n",
    "\n",
    "Desenvolva uma função em Python chamada ```tem_elementos_comuns()``` que recebe duas listas como parâmetros e retorna True se houver algum elemento comum entre as duas listas, e False caso contrário. Utilize sets para resolver essa tarefa."
   ]
  },
  {
   "cell_type": "code",
   "execution_count": 1,
   "id": "f7ab6736",
   "metadata": {},
   "outputs": [],
   "source": [
    "# Implemente aqui a função tem_elementos_comuns()\n",
    "def tem_elementos_comuns(lista1, lista2):\n",
    "    # Converter as listas para conjuntos\n",
    "    set1 = set(lista1)\n",
    "    set2 = set(lista2)\n",
    "    \n",
    "    # Verificar se há interseção entre os conjuntos\n",
    "    if set1 & set2:\n",
    "        return True\n",
    "    else:\n",
    "        return False"
   ]
  },
  {
   "cell_type": "code",
   "execution_count": 2,
   "id": "1022744a",
   "metadata": {},
   "outputs": [
    {
     "name": "stdout",
     "output_type": "stream",
     "text": [
      "True\n"
     ]
    }
   ],
   "source": [
    "# Execute esta célula para testar a função da Q2.\n",
    "\n",
    "lista1 = [1, 2, 3, 4]\n",
    "lista2 = [3, 4, 5, 6, 7]\n",
    "resultado = tem_elementos_comuns(lista1, lista2)\n",
    "print(resultado)  # Saída esperada: True"
   ]
  },
  {
   "cell_type": "markdown",
   "id": "649a5082",
   "metadata": {},
   "source": [
    "### Q3. \n",
    "\n",
    "Você vai coletar de diferentes turmas de alunos seus interesses em atividades extra curriculares dentre futebol, vôlei, rugby, música, teatro, ações comunitárias. Informe o conjunto de atividades comuns a todas a turmas. Pode preencher o iterável turmas com valores arbitrários. \n"
   ]
  },
  {
   "cell_type": "code",
   "execution_count": null,
   "id": "880a9927",
   "metadata": {},
   "outputs": [],
   "source": [
    "turmas = [\n",
    "     {'ações comunitárias', 'futebol', 'música', 'rugby'},\n",
    "     {'ações comunitárias', 'música', 'rugby', 'teatro'},\n",
    "     {'música', 'rugby', 'teatro', 'vôlei'},\n",
    "     {'música', 'vôlei', 'rugby'},\n",
    "     {'ações comunitárias', 'futebol', 'rugby', 'teatro', 'vôlei'},\n",
    "     {'ações comunitárias', 'futebol', 'rugby'},\n",
    "     {'ações comunitárias', 'rugby', 'teatro', 'vôlei'},\n",
    "     {'ações comunitárias', 'rugby', 'teatro', 'vôlei'},\n",
    "     {'ações comunitárias', 'rugby', 'vôlei'}\n",
    "]\n",
    "\n",
    "\n",
    "## Implemente aqui sua solução\n",
    "# Inicializando com as atividades da primeira turma\n",
    "atividades_comuns = turmas[0].copy()\n",
    "\n",
    "# Iterando pelas demais turmas para encontrar a interseção de atividades\n",
    "for turma in turmas[1:]:\n",
    "    atividades_comuns &= turma\n",
    "\n",
    "# Imprimindo o resultado\n",
    "print(\"Atividades comuns a todas as turmas:\", atividades_comuns)\n"
   ]
  },
  {
   "cell_type": "markdown",
   "id": "021e2b1e",
   "metadata": {},
   "source": [
    "### Q4. \n",
    "Considere duas listas que são duplicatas uma da outra, exceto por um elemento, exemplo:\n",
    "```\n",
    "A = [1, 4, 5, 7, 9]\n",
    "B = [4, 5, 7, 9]\n",
    "```\n",
    "\n",
    "Encontre e apresente o elemento diferente, informando também qual das listas está desfalcada. Para o exemplo acima, a saída esperada é\n",
    "```\n",
    "O elemento 1 está faltando na segunda lista\n",
    "```"
   ]
  },
  {
   "cell_type": "code",
   "execution_count": 3,
   "id": "608761a4",
   "metadata": {},
   "outputs": [
    {
     "name": "stdout",
     "output_type": "stream",
     "text": [
      "O elemento 1 está faltando na segunda lista\n"
     ]
    }
   ],
   "source": [
    "## Implemente aqui sua solução\n",
    "def encontrar_elemento_faltando(A, B):\n",
    "    # Convertendo as listas em conjuntos\n",
    "    set_A = set(A)\n",
    "    set_B = set(B)\n",
    "    \n",
    "    # Encontrando a diferença entre os conjuntos A e B\n",
    "    diff = set_A - set_B\n",
    "    \n",
    "    # Verificando se a diferença tem exatamente um elemento\n",
    "    if len(diff) == 1:\n",
    "        elemento_faltando = diff.pop()  # Pegando o único elemento do conjunto diff\n",
    "        if elemento_faltando in set_A:\n",
    "            lista_faltando = \"segunda lista\"\n",
    "        else:\n",
    "            lista_faltando = \"primeira lista\"\n",
    "        return f\"O elemento {elemento_faltando} está faltando na {lista_faltando}\"\n",
    "    else:\n",
    "        return \"As listas são idênticas ou têm mais de um elemento de diferença.\"\n",
    "\n",
    "# Exemplo de uso\n",
    "A = [1, 4, 5, 7, 9]\n",
    "B = [4, 5, 7, 9]\n",
    "resultado = encontrar_elemento_faltando(A, B)\n",
    "print(resultado)  # Saída esperada: O elemento 1 está faltando na segunda lista\n"
   ]
  },
  {
   "cell_type": "markdown",
   "id": "ddf180c1",
   "metadata": {},
   "source": [
    "### Q5.\n",
    "\n",
    "Panagramas são frases que contém todas as letras do alfabeto pelo menos uma vez. Crie uma função ```checa_panagrama``` que recebe uma string e retorna ```True``` caso seja um panagrama ou ```False```caso contrário. Use seu conhecimento de sets para solucionar essa questão.\n",
    "\n",
    "Ex: \n",
    "```\n",
    "Entrada: \"The quick brown fox jumps over the lazy dog\" \n",
    "Saída: É um panagrama\n",
    "```\n",
    "\n",
    "```\n",
    "Entrada: \"Python é uma linguagem de programação\" \n",
    "Saída: Não é um panagrama\n",
    "```"
   ]
  },
  {
   "cell_type": "code",
   "execution_count": 4,
   "id": "4e8b0390",
   "metadata": {},
   "outputs": [
    {
     "name": "stdout",
     "output_type": "stream",
     "text": [
      "The quick brown fox jumps over the lazy dog\n",
      "É um panagrama\n",
      "\n",
      "Python é uma linguagem de programação\n",
      "Não é um panagrama\n"
     ]
    }
   ],
   "source": [
    "## Implemente aqui sua solução\n",
    "def checa_panagrama(frase):\n",
    "    # Convertendo a frase para letras minúsculas\n",
    "    frase = frase.lower()\n",
    "    \n",
    "    # Conjunto para armazenar as letras do alfabeto\n",
    "    alfabeto = set('abcdefghijklmnopqrstuvwxyz')\n",
    "    \n",
    "    # Conjunto para armazenar letras presentes na frase\n",
    "    letras_presentes = set()\n",
    "    \n",
    "    # Iterando sobre cada caractere da frase\n",
    "    for char in frase:\n",
    "        if char.isalpha():  # Verifica se o caractere é uma letra\n",
    "            letras_presentes.add(char)\n",
    "    \n",
    "    # Verificando se todas as letras do alfabeto estão presentes na frase\n",
    "    return letras_presentes == alfabeto\n",
    "\n",
    "# Testando a função\n",
    "frase1 = \"The quick brown fox jumps over the lazy dog\"\n",
    "frase2 = \"Python é uma linguagem de programação\"\n",
    "\n",
    "resultado1 = checa_panagrama(frase1)\n",
    "resultado2 = checa_panagrama(frase2)\n",
    "\n",
    "print(frase1)\n",
    "if resultado1:\n",
    "    print(\"É um panagrama\")\n",
    "else:\n",
    "    print(\"Não é um panagrama\")\n",
    "\n",
    "print()\n",
    "\n",
    "print(frase2)\n",
    "if resultado2:\n",
    "    print(\"É um panagrama\")\n",
    "else:\n",
    "    print(\"Não é um panagrama\")\n"
   ]
  },
  {
   "cell_type": "code",
   "execution_count": null,
   "id": "f1ef8a6c-23c0-47a9-8c23-6e093e403f68",
   "metadata": {},
   "outputs": [],
   "source": []
  }
 ],
 "metadata": {
  "kernelspec": {
   "display_name": "Python 3 (ipykernel)",
   "language": "python",
   "name": "python3"
  },
  "language_info": {
   "codemirror_mode": {
    "name": "ipython",
    "version": 3
   },
   "file_extension": ".py",
   "mimetype": "text/x-python",
   "name": "python",
   "nbconvert_exporter": "python",
   "pygments_lexer": "ipython3",
   "version": "3.12.2"
  }
 },
 "nbformat": 4,
 "nbformat_minor": 5
}
